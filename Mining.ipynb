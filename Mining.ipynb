{
  "nbformat": 4,
  "nbformat_minor": 0,
  "metadata": {
    "colab": {
      "provenance": [],
      "authorship_tag": "ABX9TyOz0mJ0U8ogfV/uglklBl8f",
      "include_colab_link": true
    },
    "kernelspec": {
      "name": "python3",
      "display_name": "Python 3"
    },
    "language_info": {
      "name": "python"
    }
  },
  "cells": [
    {
      "cell_type": "markdown",
      "metadata": {
        "id": "view-in-github",
        "colab_type": "text"
      },
      "source": [
        "<a href=\"https://colab.research.google.com/github/nazarb/Mining/blob/main/Mining.ipynb\" target=\"_parent\"><img src=\"https://colab.research.google.com/assets/colab-badge.svg\" alt=\"Open In Colab\"/></a>"
      ]
    },
    {
      "cell_type": "markdown",
      "source": [
        "Zaimportuj biblioteki i model VGG16\n",
        "\n"
      ],
      "metadata": {
        "id": "CyoM2m8tSUzC"
      }
    },
    {
      "cell_type": "code",
      "execution_count": 2,
      "metadata": {
        "id": "wpzi9mheford"
      },
      "outputs": [],
      "source": [
        "import os\n",
        "import matplotlib.pyplot as plt\n",
        "import numpy as np\n",
        "from keras.preprocessing.image import ImageDataGenerator\n",
        "from keras.applications import VGG16\n",
        "from keras import models\n",
        "from keras import layers\n",
        "from keras import optimizers"
      ]
    },
    {
      "cell_type": "markdown",
      "source": [
        "Pobierz parametry modelu VGG16"
      ],
      "metadata": {
        "id": "MtqMX_ShSdFM"
      }
    },
    {
      "cell_type": "code",
      "source": [
        "print(\"Starting image classification process...\")\n",
        "conv_base = VGG16(weights='imagenet', include_top=False, input_shape=(500, 500, 3))\n",
        "print(\"VGG16 base summary: \" + str(conv_base.summary()))\n",
        "print(\"Starting training data augmentation\")\n",
        "print(\"Starting feature extration process...\")"
      ],
      "metadata": {
        "id": "SnAvJb2hSda-"
      },
      "execution_count": null,
      "outputs": []
    },
    {
      "cell_type": "markdown",
      "source": [
        "Wybierz lokalizację gdzie są dane"
      ],
      "metadata": {
        "id": "0WXgmKW_TV6K"
      }
    },
    {
      "cell_type": "code",
      "source": [
        "# base_dir = '/home/'\n",
        "# print(\"Using base directory for training, validation and test images: \" + base_dir)"
      ],
      "metadata": {
        "id": "r_66z45WSuTh"
      },
      "execution_count": null,
      "outputs": []
    },
    {
      "cell_type": "markdown",
      "source": [
        "Lokalizacja danych do train, validation i test; Zeskaluj obrazu i wybierz wielkość grup"
      ],
      "metadata": {
        "id": "1abXFPnnTzc4"
      }
    },
    {
      "cell_type": "code",
      "source": [
        "train_dir = os.path.join(base_dir, 'train')\n",
        "validation_dir = os.path.join(base_dir, 'validation')\n",
        "test_dir = os.path.join(base_dir, 'test')\n",
        "datagen = ImageDataGenerator(rescale=1./255)\n",
        "batch_size = 20"
      ],
      "metadata": {
        "id": "BAO9Gqk-TzsJ"
      },
      "execution_count": null,
      "outputs": []
    },
    {
      "cell_type": "markdown",
      "source": [],
      "metadata": {
        "id": "DQer7vnGUGVY"
      }
    },
    {
      "cell_type": "code",
      "source": [
        "def extract_features(directory, sample_count):\n",
        "  features = np.zeros(shape=(sample_count, 15, 15, 512))\n",
        "  labels = np.zeros(shape=(sample_count))\n",
        "  generator = datagen.flow_from_directory(\n",
        "      directory,\n",
        "      target_size=(500, 500),\n",
        "      batch_size=batch_size,\n",
        "      class_mode='binary')\n",
        "  i = 0\n",
        "  \n",
        "  for inputs_batch, labels_batch in generator:\n",
        "    features_batch = conv_base.predict(inputs_batch)\n",
        "    features[i * batch_size : (i + 1) * batch_size] = features_batch\n",
        "    labels[i * batch_size : (i + 1) * batch_size] = labels_batch\n",
        "    i += 1\n",
        "    if i * batch_size >= sample_count:\n",
        "      break\n",
        "return features, labels"
      ],
      "metadata": {
        "id": "bG88HyB1UGl2"
      },
      "execution_count": null,
      "outputs": []
    },
    {
      "cell_type": "markdown",
      "source": [
        "Run and check"
      ],
      "metadata": {
        "id": "IH3NUVw1U7pq"
      }
    },
    {
      "cell_type": "code",
      "source": [
        "print(\"Starting feature extration process on training images...\")\n",
        "train_features, train_labels = extract_features(train_dir, 400)\n",
        "print(\"Ending feature extration process on training images...\")\n",
        "print(\"Starting feature extration process on validation images...\")\n",
        "validation_features, validation_labels = extract_features(validation_dir, 50)\n",
        "print(\"Ending feature extration process on validation images...\")\n",
        "print(\"Starting feature extration process on test images...\")\n",
        "test_features, test_labels = extract_features(test_dir, 50)\n",
        "print(\"Ending feature extration process on test images...\")\n",
        "print(\"Ending feature extration process...\")"
      ],
      "metadata": {
        "id": "z5IcABB7U6ny"
      },
      "execution_count": null,
      "outputs": []
    },
    {
      "cell_type": "markdown",
      "source": [],
      "metadata": {
        "id": "-q7oyu6gVDjP"
      }
    },
    {
      "cell_type": "code",
      "source": [
        "train_features = np.reshape(train_features, (400, 15 * 15 * 512))\n",
        "validation_features = np.reshape(validation_features, (50, 15 * 15 * 512))\n",
        "test_features = np.reshape(test_features, (50, 15 * 15 * 512))\n",
        "model = models.Sequential()\n",
        "model.add(layers.Dense(256, activation='relu', input_dim=15 * 15 * 512))\n",
        "model.add(layers.Dropout(0.5))\n",
        "model.add(layers.Dense(1, activation='sigmoid'))\n",
        "model.compile(optimizer=optimizers.RMSprop(lr=2e-5),\n",
        "              loss='binary_crossentropy',\n",
        "              metrics=['acc'])"
      ],
      "metadata": {
        "id": "fYb8K0PeVDs0"
      },
      "execution_count": null,
      "outputs": []
    },
    {
      "cell_type": "markdown",
      "source": [],
      "metadata": {
        "id": "lKn5_ZyQVUL_"
      }
    },
    {
      "cell_type": "code",
      "source": [
        "print(\"Starting training of NN on training, validation features...\")\n",
        "history = model.fit(train_features, train_labels,\n",
        "                    epochs=30,\n",
        "                    batch_size=20,\n",
        "                    validation_data=(validation_features, validation_labels))\n",
        "\n",
        "print(\"Ending training of NN on training, validation features...\")\n"
      ],
      "metadata": {
        "id": "8J57m2dpVUV4"
      },
      "execution_count": null,
      "outputs": []
    },
    {
      "cell_type": "markdown",
      "source": [],
      "metadata": {
        "id": "7TDprPpQViwE"
      }
    },
    {
      "cell_type": "code",
      "source": [
        "acc = history.history['acc']\n",
        "val_acc = history.history['val_acc']\n",
        "loss = history.history['loss']\n",
        "val_loss = history.history['val_loss']\n",
        "epochs = range(1, len(acc) + 1)"
      ],
      "metadata": {
        "id": "Uhnly3poVi6C"
      },
      "execution_count": null,
      "outputs": []
    },
    {
      "cell_type": "markdown",
      "source": [
        "Wyświetl na wykresie"
      ],
      "metadata": {
        "id": "7coY0k6cVpW9"
      }
    },
    {
      "cell_type": "code",
      "source": [
        "plt.plot(epochs, acc, 'bo', label='Training acc')\n",
        "plt.plot(epochs, val_acc, 'b', label='Validation acc')\n",
        "plt.title('Training and validation accuracy')\n",
        "plt.legend()\n",
        "plt.figure()\n",
        "plt.plot(epochs, loss, 'bo', label='Training loss')\n",
        "plt.plot(epochs, val_loss, 'b', label='Validation loss')\n",
        "plt.title('Training and validation loss')\n",
        "plt.legend()\n",
        "plt.show()"
      ],
      "metadata": {
        "id": "-bNorBA6VphF"
      },
      "execution_count": null,
      "outputs": []
    },
    {
      "cell_type": "markdown",
      "source": [],
      "metadata": {
        "id": "7hR84atPVxNf"
      }
    },
    {
      "cell_type": "code",
      "source": [
        "print(\"Starting models evaluation of NN on test dataset...\")\n",
        "test_datagen = ImageDataGenerator(rescale=1./255)\n",
        "test_generator = test_datagen.flow_from_directory(test_dir,\n",
        "                                                  target_size=(500, 500),\n",
        "                                                  batch_size=20,\n",
        "                                                  class_mode='binary')\n",
        "\n",
        "test_loss_and_metrics = model.evaluate(test_features, test_labels)\n",
        "print(\"Ending evaluation of NN on test dataset...\")\n",
        "print('Available test metrics: ', str(model.metrics_names))\n",
        "print('CNN model loss and accuracy on test dataset: ', str(test_loss_and_metrics))\n",
        "\n",
        "print(\"Starting prediction on test dataset...\")\n",
        "predictions = model.predict(test_features)\n",
        "print(predictions)\n",
        "print(\"Ending prediction on test dataset...\")\n",
        "print(\"Ending image classification process...\")\n",
        "print(\"Done\")"
      ],
      "metadata": {
        "id": "bsdaHVIWVxU4"
      },
      "execution_count": null,
      "outputs": []
    }
  ]
}