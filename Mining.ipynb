{
  "nbformat": 4,
  "nbformat_minor": 0,
  "metadata": {
    "colab": {
      "provenance": [],
      "authorship_tag": "ABX9TyPXYKQLU8oubyiTVl5Wd+8n",
      "include_colab_link": true
    },
    "kernelspec": {
      "name": "python3",
      "display_name": "Python 3"
    },
    "language_info": {
      "name": "python"
    }
  },
  "cells": [
    {
      "cell_type": "markdown",
      "metadata": {
        "id": "view-in-github",
        "colab_type": "text"
      },
      "source": [
        "<a href=\"https://colab.research.google.com/github/nazarb/Mining/blob/main/Mining.ipynb\" target=\"_parent\"><img src=\"https://colab.research.google.com/assets/colab-badge.svg\" alt=\"Open In Colab\"/></a>"
      ]
    },
    {
      "cell_type": "markdown",
      "source": [
        "Zaimportuj biblioteki i model VGG16\n",
        "\n"
      ],
      "metadata": {
        "id": "CyoM2m8tSUzC"
      }
    },
    {
      "cell_type": "code",
      "execution_count": 2,
      "metadata": {
        "id": "wpzi9mheford"
      },
      "outputs": [],
      "source": [
        "import os\n",
        "import matplotlib.pyplot as plt\n",
        "import numpy as np\n",
        "from keras.preprocessing.image import ImageDataGenerator\n",
        "from keras.applications import VGG16\n",
        "from keras import models\n",
        "from keras import layers\n",
        "from keras import optimizers"
      ]
    },
    {
      "cell_type": "markdown",
      "source": [
        "Pobierz parametry modelu VGG16"
      ],
      "metadata": {
        "id": "MtqMX_ShSdFM"
      }
    },
    {
      "cell_type": "code",
      "source": [
        "print(\"Starting image classification process...\")\n",
        "conv_base = VGG16(weights='imagenet', include_top=False, input_shape=(500, 500, 3))\n",
        "print(\"VGG16 base summary: \" + str(conv_base.summary()))\n",
        "print(\"Starting training data augmentation\")\n",
        "print(\"Starting feature extration process...\")"
      ],
      "metadata": {
        "id": "SnAvJb2hSda-",
        "outputId": "dd9a2abb-f003-4703-ba61-25248e2d5afb",
        "colab": {
          "base_uri": "https://localhost:8080/"
        }
      },
      "execution_count": 3,
      "outputs": [
        {
          "output_type": "stream",
          "name": "stdout",
          "text": [
            "Starting image classification process...\n",
            "Downloading data from https://storage.googleapis.com/tensorflow/keras-applications/vgg16/vgg16_weights_tf_dim_ordering_tf_kernels_notop.h5\n",
            "58889256/58889256 [==============================] - 2s 0us/step\n",
            "Model: \"vgg16\"\n",
            "_________________________________________________________________\n",
            " Layer (type)                Output Shape              Param #   \n",
            "=================================================================\n",
            " input_1 (InputLayer)        [(None, 500, 500, 3)]     0         \n",
            "                                                                 \n",
            " block1_conv1 (Conv2D)       (None, 500, 500, 64)      1792      \n",
            "                                                                 \n",
            " block1_conv2 (Conv2D)       (None, 500, 500, 64)      36928     \n",
            "                                                                 \n",
            " block1_pool (MaxPooling2D)  (None, 250, 250, 64)      0         \n",
            "                                                                 \n",
            " block2_conv1 (Conv2D)       (None, 250, 250, 128)     73856     \n",
            "                                                                 \n",
            " block2_conv2 (Conv2D)       (None, 250, 250, 128)     147584    \n",
            "                                                                 \n",
            " block2_pool (MaxPooling2D)  (None, 125, 125, 128)     0         \n",
            "                                                                 \n",
            " block3_conv1 (Conv2D)       (None, 125, 125, 256)     295168    \n",
            "                                                                 \n",
            " block3_conv2 (Conv2D)       (None, 125, 125, 256)     590080    \n",
            "                                                                 \n",
            " block3_conv3 (Conv2D)       (None, 125, 125, 256)     590080    \n",
            "                                                                 \n",
            " block3_pool (MaxPooling2D)  (None, 62, 62, 256)       0         \n",
            "                                                                 \n",
            " block4_conv1 (Conv2D)       (None, 62, 62, 512)       1180160   \n",
            "                                                                 \n",
            " block4_conv2 (Conv2D)       (None, 62, 62, 512)       2359808   \n",
            "                                                                 \n",
            " block4_conv3 (Conv2D)       (None, 62, 62, 512)       2359808   \n",
            "                                                                 \n",
            " block4_pool (MaxPooling2D)  (None, 31, 31, 512)       0         \n",
            "                                                                 \n",
            " block5_conv1 (Conv2D)       (None, 31, 31, 512)       2359808   \n",
            "                                                                 \n",
            " block5_conv2 (Conv2D)       (None, 31, 31, 512)       2359808   \n",
            "                                                                 \n",
            " block5_conv3 (Conv2D)       (None, 31, 31, 512)       2359808   \n",
            "                                                                 \n",
            " block5_pool (MaxPooling2D)  (None, 15, 15, 512)       0         \n",
            "                                                                 \n",
            "=================================================================\n",
            "Total params: 14,714,688\n",
            "Trainable params: 14,714,688\n",
            "Non-trainable params: 0\n",
            "_________________________________________________________________\n",
            "VGG16 base summary: None\n",
            "Starting training data augmentation\n",
            "Starting feature extration process...\n"
          ]
        }
      ]
    }
  ]
}